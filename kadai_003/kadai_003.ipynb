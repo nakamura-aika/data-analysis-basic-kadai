{
  "nbformat": 4,
  "nbformat_minor": 0,
  "metadata": {
    "colab": {
      "provenance": []
    },
    "kernelspec": {
      "name": "python3",
      "display_name": "Python 3"
    },
    "language_info": {
      "name": "python"
    }
  },
  "cells": [
    {
      "cell_type": "code",
      "execution_count": 1,
      "metadata": {
        "colab": {
          "base_uri": "https://localhost:8080/"
        },
        "id": "-FUJCSSec8i5",
        "outputId": "b0191597-3fd0-4b74-feed-9ee52640f9ec"
      },
      "outputs": [
        {
          "output_type": "stream",
          "name": "stdout",
          "text": [
            "行列の積 C:\n",
            "[[ 58  64]\n",
            " [139 154]]\n",
            "行列Cの最大値: 154\n"
          ]
        }
      ],
      "source": [
        "# Step1. NumPyをインポートする\n",
        "import numpy as np\n",
        "\n",
        "# Step2. AとBの行列を格納する多次元配列を定義する\n",
        "# 例として、2x3の行列Aと3x2の行列Bを定義します\n",
        "A = np.array([[1, 2, 3],\n",
        "              [4, 5, 6]])\n",
        "\n",
        "B = np.array([[7, 8],\n",
        "              [9, 10],\n",
        "              [11, 12]])\n",
        "\n",
        "# Step3. 行列の積を計算する\n",
        "C = np.dot(A, B)\n",
        "\n",
        "# Step4. 計算結果を表示する\n",
        "print(\"行列の積 C:\")\n",
        "print(C)\n",
        "\n",
        "# Step5. 行列Cの要素の最大値を求めて表示する\n",
        "max_value = np.max(C)\n",
        "print(\"行列Cの最大値:\", max_value)\n"
      ]
    }
  ]
}